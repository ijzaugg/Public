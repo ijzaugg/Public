{
  "nbformat": 4,
  "nbformat_minor": 0,
  "metadata": {
    "colab": {
      "provenance": []
    },
    "kernelspec": {
      "name": "python3",
      "display_name": "Python 3"
    },
    "language_info": {
      "name": "python"
    }
  },
  "cells": [
    {
      "cell_type": "markdown",
      "source": [
        "**Contributors**\n",
        "\n",
        "*Irene Zaugg*: Dataset collection, feature analysis, model training, discussion\n",
        "\n",
        "*Aubrey MacDougall*: Dataset formatting, data preprocessing, graphical analysis/visualization"
      ],
      "metadata": {
        "id": "h3-IzAJouwwr"
      }
    },
    {
      "cell_type": "markdown",
      "source": [
        "***Exoplanet Predictions***\n",
        "\n",
        "Exoplanets have been discovered to be a more prevalent occurance in our local galaxy than previous studies believed. As telescopy and other detection methods have improved, we have developed greater, more accurate methods for discovering and classifying exoplanets.\n",
        "\n",
        "NASA has provided data on all of its missions to discover exoplanets orbiting distant stars, including the massive Kepler data. This learning model attempts to use a segment of the data to predict the number of exoplanets orbiting a star.\n",
        "\n",
        "***NASA Planetary Systems Dataset***\n",
        "\n",
        "This dataset was retrieved from NASA's website (source: https://exoplanetarchive.ipac.caltech.edu/cgi-bin/TblView/nph-tblView?app=ExoTbls&config=PS). Due to the size of this data, which consists of nearly 50,000 entries, this notebook was unable to process the entire dataset, and so only the first 5,000 were used for training and testing a model.\n",
        "\n",
        "***The Goal***\n",
        "\n",
        "In processing this data and training a model, this program attempts to predict the presence and number of exoplanets around a star. At the most basic level, a star is able to retain some number of planets in orbit through a gravitational interaction. However, as stars transition through different phases of its age cycle, it runs the risk of either obliterating any orbiting planets, blowing away the dust and particles needed to form planets, or even just pushing away planets as it expands or contracts due to its own internal gravitational forces.\n",
        "\n",
        "We would assume, then, that the relationships between stars and planets is complicated, but probably based on a linear scale based on the star's mass, temperature, density, and other numeric factors.\n",
        "\n",
        "***The Exploration***\n",
        "As will be demonstrated here, after identifying the most useful features, we discovered that the linear models actually performed quite poorly compared to random tree models. We attempted different forms, all using the same preprocessing methods on our chosen data set. The results will demonstrate that there is a reasonable difference between these different modeling approaches."
      ],
      "metadata": {
        "id": "9mqnt0komeOF"
      }
    },
    {
      "cell_type": "markdown",
      "source": [
        "*Aubrey: Added header of data for ease of identifying columns in later code.*"
      ],
      "metadata": {
        "id": "IM2gdYnkqPQ6"
      }
    },
    {
      "cell_type": "code",
      "source": [
        "import pandas as pd\n",
        "from sklearn.preprocessing import StandardScaler, LabelEncoder\n",
        "from sklearn.impute import SimpleImputer\n",
        "from sklearn.model_selection import train_test_split\n",
        "import matplotlib.pyplot as plt\n",
        "\n",
        "\n",
        "try:\n",
        "    # Load the CSV file into a DataFrame, specify delimiter\n",
        "    data = pd.read_csv('exoplanet_data.csv', delimiter=',')\n",
        "\n",
        "    # Print the top rows of the DataFrame\n",
        "    print(data.head())\n",
        "except pd.errors.ParserError as e:\n",
        "    print(\"Error parsing CSV file:\", e)"
      ],
      "metadata": {
        "id": "Px73O2bnv3Oa",
        "colab": {
          "base_uri": "https://localhost:8080/"
        },
        "outputId": "9e029020-56d8-4c37-9ee8-55b01e4220b9"
      },
      "execution_count": null,
      "outputs": [
        {
          "output_type": "stream",
          "name": "stdout",
          "text": [
            "   default_flag  sy_snum  sy_pnum st_spectype  st_teff  st_rad  st_mass  \\\n",
            "0             0        2        1         NaN      NaN     NaN     2.60   \n",
            "1             0        2        1      G8 III   4742.0   19.00     2.70   \n",
            "2             1        2        1      G8 III   4874.0   13.76     2.09   \n",
            "3             1        1        1         NaN   4213.0   29.79     2.78   \n",
            "4             0        1        1         NaN      NaN     NaN     1.70   \n",
            "\n",
            "   st_met  st_lum  st_logg  ...      elat       elon       sy_pm    sy_pmra  \\\n",
            "0     NaN     NaN      NaN  ...  18.33392  177.41790  140.383627 -109.24100   \n",
            "1   -0.35   2.243     2.31  ...  18.33392  177.41790  140.383627 -109.24100   \n",
            "2   -0.26   1.978     2.45  ...  18.33392  177.41790  140.383627 -109.24100   \n",
            "3   -0.02     NaN     1.93  ...  74.95821  141.64699   10.679019    3.42996   \n",
            "4     NaN     NaN      NaN  ...  74.95821  141.64699   10.679019    3.42996   \n",
            "\n",
            "   sy_pmdec   sy_dist    sy_plx  sy_vmag sy_kmag  sy_gaiamag  \n",
            "0   88.1701   93.1846  10.71040  4.72307   2.282     4.44038  \n",
            "1   88.1701   93.1846  10.71040  4.72307   2.282     4.44038  \n",
            "2   88.1701   93.1846  10.71040  4.72307   2.282     4.44038  \n",
            "3   10.1132  125.3210   7.95388  5.01300   1.939     4.56216  \n",
            "4   10.1132  125.3210   7.95388  5.01300   1.939     4.56216  \n",
            "\n",
            "[5 rows x 32 columns]\n"
          ]
        }
      ]
    },
    {
      "cell_type": "markdown",
      "source": [
        "Step 1: Data Gathering and preprocessing.\n",
        "*  Obtain the NASA Planetary Systems dataset.\n",
        "*   Preprocess the data, which may involve cleaning, handling missing values, and feature engineering."
      ],
      "metadata": {
        "id": "D3qIsrVFuBqc"
      }
    },
    {
      "cell_type": "markdown",
      "source": [
        "***AUBREY NOTES pre-processed data***"
      ],
      "metadata": {
        "id": "Pjo-cx9BqbR4"
      }
    },
    {
      "cell_type": "code",
      "source": [
        "import pandas as pd\n",
        "from sklearn.model_selection import train_test_split\n",
        "from sklearn.preprocessing import StandardScaler, OneHotEncoder\n",
        "\n",
        "# Load your exoplanet data into a DataFrame\n",
        "exoplanet_data = pd.read_csv('exoplanet_data.csv')\n",
        "\n",
        "# Check the data head/top\n",
        "print(exoplanet_data.head())\n",
        "\n",
        "# Handle missing values\n",
        "exoplanet_data.fillna(method='ffill', inplace=True)  # Forward fill missing values\n",
        "\n",
        "# Encode categorical variables (if any)\n",
        "categorical_cols = ['st_spectype']  # Specify categorical columns\n",
        "encoder = OneHotEncoder(drop='first', sparse=False)\n",
        "encoded_cols = pd.DataFrame(encoder.fit_transform(exoplanet_data[categorical_cols]), columns=encoder.categories_[0][1:])\n",
        "exoplanet_data_encoded = pd.concat([exoplanet_data.drop(categorical_cols, axis=1), encoded_cols], axis=1)\n",
        "\n",
        "# Scale numerical features\n",
        "numerical_cols = ['st_teff', 'st_rad', 'st_mass', 'st_logg', 'st_age', 'st_dens']  # Specify numerical columns\n",
        "scaler = StandardScaler()\n",
        "exoplanet_data_encoded[numerical_cols] = scaler.fit_transform(exoplanet_data_encoded[numerical_cols])\n",
        "\n",
        "# Split the data into training and testing sets\n",
        "X = exoplanet_data_encoded.drop(['default_flag'], axis=1)  # Features\n",
        "y = exoplanet_data_encoded['default_flag']  # Target variable\n",
        "X_train, X_test, y_train, y_test = train_test_split(X, y, test_size=0.2, random_state=42)\n",
        "\n",
        "# Print the preprocessed data\n",
        "print(X_train.head())\n",
        "print(X_test.head())\n",
        "print(y_train.head())\n",
        "print(y_test.head())"
      ],
      "metadata": {
        "id": "MOJHi0EnuYIV",
        "outputId": "eca42a9d-052c-4d55-af88-1eed4786e975",
        "colab": {
          "base_uri": "https://localhost:8080/"
        }
      },
      "execution_count": null,
      "outputs": [
        {
          "output_type": "stream",
          "name": "stdout",
          "text": [
            "   default_flag  sy_snum  sy_pnum st_spectype  st_teff  st_rad  st_mass  \\\n",
            "0             0        2        1         NaN      NaN     NaN     2.60   \n",
            "1             0        2        1      G8 III   4742.0   19.00     2.70   \n",
            "2             1        2        1      G8 III   4874.0   13.76     2.09   \n",
            "3             1        1        1         NaN   4213.0   29.79     2.78   \n",
            "4             0        1        1         NaN      NaN     NaN     1.70   \n",
            "\n",
            "   st_met  st_lum  st_logg  ...      elat       elon       sy_pm    sy_pmra  \\\n",
            "0     NaN     NaN      NaN  ...  18.33392  177.41790  140.383627 -109.24100   \n",
            "1   -0.35   2.243     2.31  ...  18.33392  177.41790  140.383627 -109.24100   \n",
            "2   -0.26   1.978     2.45  ...  18.33392  177.41790  140.383627 -109.24100   \n",
            "3   -0.02     NaN     1.93  ...  74.95821  141.64699   10.679019    3.42996   \n",
            "4     NaN     NaN      NaN  ...  74.95821  141.64699   10.679019    3.42996   \n",
            "\n",
            "   sy_pmdec   sy_dist    sy_plx  sy_vmag sy_kmag  sy_gaiamag  \n",
            "0   88.1701   93.1846  10.71040  4.72307   2.282     4.44038  \n",
            "1   88.1701   93.1846  10.71040  4.72307   2.282     4.44038  \n",
            "2   88.1701   93.1846  10.71040  4.72307   2.282     4.44038  \n",
            "3   10.1132  125.3210   7.95388  5.01300   1.939     4.56216  \n",
            "4   10.1132  125.3210   7.95388  5.01300   1.939     4.56216  \n",
            "\n",
            "[5 rows x 32 columns]\n",
            "      sy_snum  sy_pnum   st_teff    st_rad   st_mass  st_met  st_lum  \\\n",
            "1738        1        1  0.399801 -0.215993  0.178042   0.295  -0.310   \n",
            "4943        1        1  1.574328 -0.107673  0.088547   0.070  -2.065   \n",
            "2916        1        1 -1.332011 -0.273107 -0.770610  -0.030  -1.154   \n",
            "1595        2        1 -0.921173 -0.233718 -0.502123   0.186  -0.709   \n",
            "3214        2        1 -0.003174 -0.206146 -0.162041   0.240  -0.200   \n",
            "\n",
            "       st_logg    st_age   st_dens  ...  M4.5 V  M5.0 V  M5.5 V M5.5/M6   M6  \\\n",
            "1738  0.147934 -0.120334 -0.545818  ...     0.0     0.0     0.0     0.0  0.0   \n",
            "4943 -0.042122 -1.464379  3.491912  ...     0.0     0.0     0.0     0.0  0.0   \n",
            "2916  0.775119 -1.247941 -0.554522  ...     0.0     0.0     0.0     0.0  0.0   \n",
            "1595  0.280973  2.282097  0.096761  ...     0.0     0.0     0.0     0.0  0.0   \n",
            "3214  0.452024  1.163886 -0.476478  ...     0.0     0.0     0.0     0.0  0.0   \n",
            "\n",
            "      M7.25   M8  M8.5  M9-L1  NaN  \n",
            "1738    0.0  0.0   0.0    0.0  0.0  \n",
            "4943    0.0  0.0   0.0    0.0  0.0  \n",
            "2916    0.0  0.0   0.0    0.0  0.0  \n",
            "1595    0.0  0.0   0.0    0.0  0.0  \n",
            "3214    0.0  0.0   0.0    0.0  0.0  \n",
            "\n",
            "[5 rows x 226 columns]\n",
            "      sy_snum  sy_pnum   st_teff    st_rad   st_mass  st_met  st_lum  \\\n",
            "84          2        5 -0.037575 -0.196298 -0.197839   0.350  -0.197   \n",
            "2470        1        3 -0.352456 -0.225840 -0.358931   0.401  -0.456   \n",
            "2804        1        1 -0.460208 -0.215993 -0.287334   0.380  -0.452   \n",
            "4987        1        2 -1.458801 -0.294771 -0.931701  -0.100  -0.002   \n",
            "4924        1        1 -1.718278 -0.280985 -0.806408   0.098  -0.824   \n",
            "\n",
            "       st_logg    st_age   st_dens  ...  M4.5 V  M5.0 V  M5.5 V M5.5/M6   M6  \\\n",
            "84    0.242962  0.255536 -0.277784  ...     0.0     0.0     0.0     0.0  0.0   \n",
            "2470  0.452024  0.631405 -0.082172  ...     0.0     0.0     0.0     0.0  0.0   \n",
            "2804  0.984181  1.195208  0.157856  ...     0.0     0.0     0.0     0.0  0.0   \n",
            "4987  0.965175 -0.565112 -0.395838  ...     0.0     0.0     0.0     0.0  0.0   \n",
            "4924 -0.859363 -1.464379 -0.466610  ...     0.0     0.0     0.0     0.0  0.0   \n",
            "\n",
            "      M7.25   M8  M8.5  M9-L1  NaN  \n",
            "84      0.0  0.0   0.0    0.0  0.0  \n",
            "2470    0.0  0.0   0.0    0.0  0.0  \n",
            "2804    0.0  0.0   0.0    0.0  0.0  \n",
            "4987    0.0  0.0   0.0    0.0  0.0  \n",
            "4924    0.0  0.0   0.0    0.0  0.0  \n",
            "\n",
            "[5 rows x 226 columns]\n",
            "1738    0\n",
            "4943    0\n",
            "2916    1\n",
            "1595    0\n",
            "3214    1\n",
            "Name: default_flag, dtype: int64\n",
            "84      0\n",
            "2470    0\n",
            "2804    0\n",
            "4987    1\n",
            "4924    0\n",
            "Name: default_flag, dtype: int64\n"
          ]
        },
        {
          "output_type": "stream",
          "name": "stderr",
          "text": [
            "/usr/local/lib/python3.10/dist-packages/sklearn/preprocessing/_encoders.py:868: FutureWarning: `sparse` was renamed to `sparse_output` in version 1.2 and will be removed in 1.4. `sparse_output` is ignored unless you leave `sparse` to its default value.\n",
            "  warnings.warn(\n"
          ]
        }
      ]
    },
    {
      "cell_type": "markdown",
      "source": [
        "Step 2: Exploratory Data Analysis\n",
        "\n",
        "\n",
        "*   Perform feature selection using ANOVA and F-test with focus on P values.\n",
        "*   Identify important features that could contribute to distinguishing exoplanetary transits.\n",
        "\n"
      ],
      "metadata": {
        "id": "apSEc8MfuYwg"
      }
    },
    {
      "cell_type": "markdown",
      "source": [],
      "metadata": {
        "id": "WPAkv4pqr430"
      }
    },
    {
      "cell_type": "code",
      "source": [
        "# Separate features and target variable\n",
        "X = exoplanet_data.drop(columns=['sy_pnum', 'st_spectype', 'sy_snum', 'sy_refname', 'rastr', 'decstr', 'ra', 'dec', 'glat', 'glon', 'elat', 'elon', 'sy_pm', 'sy_pmra', 'sy_pmdec', 'sy_dist', 'sy_plx', 'sy_vmag', 'sy_kmag', 'sy_gaiamag'])\n",
        "y = exoplanet_data['sy_pnum']\n",
        "\n",
        "# Handle missing values with SimpleImputer (fill missing values with the mean)\n",
        "imputer = SimpleImputer(strategy='mean')\n",
        "X_imputed = imputer.fit_transform(X)\n",
        "\n",
        "# Perform feature selection using SelectKBest with ANOVA F-test\n",
        "selector = SelectKBest(score_func=f_regression, k='all')\n",
        "X_selected = selector.fit_transform(X_imputed, y)\n",
        "\n",
        "# Get scores and p-values of the features\n",
        "scores = selector.scores_\n",
        "p_values = selector.pvalues_\n",
        "\n",
        "# Create a DataFrame to store scores and p-values\n",
        "feature_scores = pd.DataFrame({'Feature': X.columns, 'Score': scores, 'P-value': p_values})\n",
        "\n",
        "# Sort features by score in descending order\n",
        "feature_scores = feature_scores.sort_values(by='Score', ascending=False)\n",
        "\n",
        "print(feature_scores)"
      ],
      "metadata": {
        "id": "CvhaNk-bumme",
        "colab": {
          "base_uri": "https://localhost:8080/"
        },
        "outputId": "1c246f07-b636-4bf7-db0f-df571fa420e7"
      },
      "execution_count": null,
      "outputs": [
        {
          "output_type": "stream",
          "name": "stdout",
          "text": [
            "         Feature       Score       P-value\n",
            "5         st_lum  145.104043  5.810640e-33\n",
            "6        st_logg  133.554291  1.665183e-30\n",
            "3        st_mass   95.896039  1.925131e-22\n",
            "9        st_vsin   69.412031  1.021521e-16\n",
            "2         st_rad   39.920429  2.874846e-10\n",
            "1        st_teff   34.879128  3.740157e-09\n",
            "4         st_met   27.196713  1.911840e-07\n",
            "7         st_age   24.653373  7.090788e-07\n",
            "8        st_dens   21.665694  3.329405e-06\n",
            "11       st_radv    9.592372  1.964708e-03\n",
            "10       st_rotp    2.927081  8.716691e-02\n",
            "0   default_flag    1.992511  1.581409e-01\n"
          ]
        }
      ]
    },
    {
      "cell_type": "markdown",
      "source": [
        "Based off of the above P-values, we came to the conclusion that the most meaningful data that we can examine would be st_logg, st_lum, st_mass, st_age, st_rad, and st_teff."
      ],
      "metadata": {
        "id": "t_6mL60rsSxv"
      }
    },
    {
      "cell_type": "markdown",
      "source": [
        "Step 3: Feature Selection\n",
        "\n",
        "\n",
        "*  Visualize the relationships between the most meaningful columns of data.\n",
        "*  Consider the significance of various magnitudes, inclinations, and other observed features in relation to exoplanetary transits.\n",
        "\n",
        "***Irene's Notes: The original set of only four features, including planetary number, returned poor results. Re-integrated the dataset using a wider range of features (above) and found a greater range of significant features.***"
      ],
      "metadata": {
        "id": "WLAZTlLqunSN"
      }
    },
    {
      "cell_type": "code",
      "source": [
        "import pandas as pd\n",
        "import matplotlib.pyplot as plt\n",
        "\n",
        "#columns_of_interest = ['sy_pnum', 'st_logg', 'st_mass', 'st_rad'']\n",
        "columns_of_interest = ['sy_pnum', 'st_logg', 'st_lum', 'st_mass', 'st_age', 'st_rad']\n",
        "subset_data = exoplanet_data[columns_of_interest]\n",
        "\n",
        "# Drop rows with missing values in any of the columns of interest\n",
        "subset_data = subset_data.dropna()\n",
        "\n",
        "# Create a scatter plot to visualize the data\n",
        "plt.figure(figsize=(10, 6))\n",
        "for column in columns_of_interest:\n",
        "    plt.scatter(subset_data['sy_pnum'], subset_data[column], label=column)\n",
        "\n",
        "plt.xlabel('Planetary Number')\n",
        "plt.ylabel('Values')\n",
        "plt.title('Kepler Dataset Analysis')\n",
        "plt.legend(loc='upper right')\n",
        "plt.grid(True)\n",
        "plt.show()\n",
        "\n",
        "columns_of_interest = ['sy_pnum', 'st_teff']\n",
        "subset_data = exoplanet_data[columns_of_interest]\n",
        "\n",
        "# Drop rows with missing values in any of the columns of interest\n",
        "subset_data = subset_data.dropna()\n",
        "\n",
        "# Create a scatter plot to visualize the data\n",
        "plt.figure(figsize=(10, 6))\n",
        "for column in columns_of_interest:\n",
        "    plt.scatter(subset_data['sy_pnum'], subset_data[column], label=column)\n",
        "\n",
        "plt.xlabel('Planetary Number')\n",
        "plt.ylabel('Values')\n",
        "plt.title('Kepler Dataset Analysis')\n",
        "plt.legend(loc='upper right')\n",
        "plt.grid(True)\n",
        "plt.show()"
      ],
      "metadata": {
        "id": "B8f-YvMcuwAa",
        "colab": {
          "base_uri": "https://localhost:8080/",
          "height": 1000
        },
        "outputId": "fe971b07-4e53-48b5-b17e-10148adcdcf4"
      },
      "execution_count": null,
      "outputs": [
        {
          "output_type": "display_data",
          "data": {
            "text/plain": [
              "<Figure size 1000x600 with 1 Axes>"
            ],
            "image/png": "[encoded data removed]"
          },
          "metadata": {}
        },
        {
          "output_type": "display_data",
          "data": {
            "text/plain": [
              "<Figure size 1000x600 with 1 Axes>"
            ],
            "image/png": "[encoded data removed]"
          },
          "metadata": {}
        }
      ]
    },
    {
      "cell_type": "markdown",
      "source": [
        "Because the the surface temperature (st_teff) has such an increased value compared to the other features, it is set here in its own graph. We see here already some evidence of outliers: some of the data points fall far above the others. We also notice some wider ranges of values for those stars hosting only a single exoplanet, particularly with regard to the stellar radius (st_rad)."
      ],
      "metadata": {
        "id": "oq6HpupMyv3D"
      }
    },
    {
      "cell_type": "markdown",
      "source": [
        "Step 4: Machine Learning Model Development:\n",
        "\n",
        "*   Compare exoplanet status with the above selected features.\n",
        "\n",
        "\n"
      ],
      "metadata": {
        "id": "wOptyB8juwRe"
      }
    },
    {
      "cell_type": "code",
      "source": [
        "import pandas as pd\n",
        "import matplotlib.pyplot as plt\n",
        "\n",
        "columns_of_interest = ['sy_pnum', 'st_logg', 'st_lum', 'st_mass', 'st_age', 'st_rad', 'st_teff', 'default_flag']\n",
        "subset_data = exoplanet_data[columns_of_interest]\n",
        "\n",
        "# Drop rows with missing values in any of the columns of interest\n",
        "subset_data = subset_data.dropna()\n",
        "\n",
        "# Separate defaults and non-defaults\n",
        "exoplanets = subset_data[subset_data['default_flag'] == 1]\n",
        "non_exoplanets = subset_data[subset_data['default_flag'] == 0]\n",
        "\n",
        "# Create a scatter plot to visualize the data\n",
        "plt.figure(figsize=(10, 6))\n",
        "\n",
        "# Plot default parameters in one color\n",
        "plt.scatter(exoplanets['sy_pnum'], exoplanets['st_logg'], label='Default Parameters', color='blue')\n",
        "# Plot non-default parameters in another color\n",
        "plt.scatter(non_exoplanets['sy_pnum'], non_exoplanets['st_logg'], label='Non-default', color='red')\n",
        "\n",
        "plt.xlabel('Planetary Number')\n",
        "plt.ylabel('Surface Gravity (st_logg)')\n",
        "plt.title('Default Parameter Set')\n",
        "plt.legend()\n",
        "plt.grid(True)\n",
        "plt.show()\n"
      ],
      "metadata": {
        "id": "nU0jslhxvEyw",
        "colab": {
          "base_uri": "https://localhost:8080/",
          "height": 564
        },
        "outputId": "2bb0455b-8da4-4405-e74d-a3454d580332"
      },
      "execution_count": null,
      "outputs": [
        {
          "output_type": "display_data",
          "data": {
            "text/plain": [
              "<Figure size 1000x600 with 1 Axes>"
            ],
            "image/png": "[encoded data removed]"
          },
          "metadata": {}
        }
      ]
    },
    {
      "cell_type": "markdown",
      "source": [
        "The default flag is set in the dataset if an exoplanet is assumed to reflect the default parameters of that stellar system. The number of default parameters that exist lie outside the total scope of this project's capabilities, but we measure it in comparison to the planet's surface gravity to find some amount of correlation."
      ],
      "metadata": {
        "id": "QYYWNihr0zE5"
      }
    },
    {
      "cell_type": "markdown",
      "source": [
        "Step 5: Attempt various learning models on the preprocessed data.\n",
        "\n",
        "First attempts were linear models. By way of comparsion, random forests were used in later attempts."
      ],
      "metadata": {
        "id": "JEA6gVpOrSZx"
      }
    },
    {
      "cell_type": "code",
      "source": [
        "import numpy as np\n",
        "from sklearn.metrics import mean_squared_error, r2_score\n",
        "from sklearn.model_selection import train_test_split\n",
        "from sklearn.linear_model import LinearRegression\n",
        "from sklearn.pipeline import make_pipeline\n",
        "from sklearn.preprocessing import StandardScaler, OneHotEncoder\n",
        "from sklearn.impute import SimpleImputer\n",
        "from sklearn.feature_selection import SelectKBest, f_regression\n",
        "from sklearn.compose import ColumnTransformer\n",
        "\n",
        "# Define numerical and categorical features\n",
        "numerical_features = ['st_logg', 'st_lum', 'st_mass', 'st_age', 'st_rad', 'st_teff']\n",
        "categorical_features = ['st_spectype']\n",
        "\n",
        "X_numerical = exoplanet_data[numerical_features]\n",
        "X_categorical = exoplanet_data[categorical_features]\n",
        "\n",
        "# Impute missing values\n",
        "imputer = SimpleImputer(strategy='mean')\n",
        "X_numerical_imputed = imputer.fit_transform(X_numerical)\n",
        "\n",
        "encoder = OneHotEncoder()\n",
        "X_categorical_encoded = encoder.fit_transform(X_categorical)\n",
        "\n",
        "X_combined = np.concatenate((X_numerical_imputed, X_categorical_encoded.toarray()), axis=1)\n",
        "\n",
        "# Target variable: sy_pnum = number of planets in a system\n",
        "y = exoplanet_data['sy_pnum']\n",
        "\n",
        "# Perform feature selection using SelectKBest with ANOVA F-test\n",
        "selector = SelectKBest(score_func=f_regression, k=3)\n",
        "X_selected = selector.fit_transform(X_combined, y)\n",
        "\n",
        "# Data split and model\n",
        "X_train, X_test, y_train, y_test = train_test_split(X_selected, y, test_size=0.2, random_state=42)"
      ],
      "metadata": {
        "id": "4s-CQdmjcLqf"
      },
      "execution_count": null,
      "outputs": []
    },
    {
      "cell_type": "code",
      "source": [
        "model = LinearRegression()\n",
        "model.fit(X_train, y_train)\n",
        "\n",
        "y_pred = model.predict(X_test)\n",
        "\n",
        "# Results.\n",
        "lr_mse = mean_squared_error(y_test, y_pred)\n",
        "lr_r2 = r2_score(y_test, y_pred)\n",
        "\n",
        "print(\"Mean Squared Error:\", lr_mse)\n",
        "print(\"R-squared:\", lr_r2)"
      ],
      "metadata": {
        "colab": {
          "base_uri": "https://localhost:8080/"
        },
        "id": "v76ESAlmvJFI",
        "outputId": "4a591768-5d67-4426-f1af-ea130251966d"
      },
      "execution_count": null,
      "outputs": [
        {
          "output_type": "stream",
          "name": "stdout",
          "text": [
            "Mean Squared Error: 1.1917290141788606\n",
            "R-squared: 0.08008619655057281\n"
          ]
        }
      ]
    },
    {
      "cell_type": "code",
      "source": [
        "from sklearn.svm import SVR\n",
        "\n",
        "# Initialize the SVR model\n",
        "svr_model = SVR()\n",
        "\n",
        "svr_model.fit(X_train, y_train)\n",
        "\n",
        "y_pred_svr = svr_model.predict(X_test)\n",
        "\n",
        "# Results\n",
        "svr_mse = mean_squared_error(y_test, y_pred_svr)\n",
        "svr_r2 = r2_score(y_test, y_pred_svr)\n",
        "\n",
        "print(\"Support Vector Regressor Mean Squared Error:\", svr_mse)\n",
        "print(\"Support Vector Regressor R-squared:\", svr_r2)"
      ],
      "metadata": {
        "colab": {
          "base_uri": "https://localhost:8080/"
        },
        "id": "IsHW3GBbrtnf",
        "outputId": "0ff1954a-3e5a-4d4c-e97c-3a04821b6ffe"
      },
      "execution_count": null,
      "outputs": [
        {
          "output_type": "stream",
          "name": "stdout",
          "text": [
            "Support Vector Regressor Mean Squared Error: 1.523127792785708\n",
            "Support Vector Regressor R-squared: -0.17572557547108691\n"
          ]
        }
      ]
    },
    {
      "cell_type": "code",
      "source": [
        "from sklearn.ensemble import RandomForestRegressor\n",
        "\n",
        "# Initialize the Random Forest Regressor model\n",
        "rf_model = RandomForestRegressor(random_state=42)\n",
        "\n",
        "rf_model.fit(X_train, y_train)\n",
        "y_pred_rf = rf_model.predict(X_test)\n",
        "\n",
        "# Results\n",
        "rf_mse = mean_squared_error(y_test, y_pred_rf)\n",
        "rf_r2 = r2_score(y_test, y_pred_rf)\n",
        "\n",
        "print(\"Random Forest Regressor MSE: \", rf_mse)\n",
        "print(\"Random Forest Regressor R2: \", rf_r2)\n"
      ],
      "metadata": {
        "colab": {
          "base_uri": "https://localhost:8080/"
        },
        "id": "vUPzK1PexK1p",
        "outputId": "d58cd712-f859-4ba5-e440-46af396efa00"
      },
      "execution_count": null,
      "outputs": [
        {
          "output_type": "stream",
          "name": "stdout",
          "text": [
            "Random Forest Regressor MSE:  0.293958949179512\n",
            "Random Forest Regressor R2:  0.7730886033818287\n"
          ]
        }
      ]
    },
    {
      "cell_type": "code",
      "source": [
        "from sklearn.tree import DecisionTreeRegressor\n",
        "\n",
        "# Decision Tree Regressor model\n",
        "dt_model = DecisionTreeRegressor(random_state=42)\n",
        "dt_model.fit(X_train, y_train)\n",
        "\n",
        "y_pred_dt = dt_model.predict(X_test)\n",
        "\n",
        "# Results\n",
        "dt_mse = mean_squared_error(y_test, y_pred_dt)\n",
        "dt_r2 = r2_score(y_test, y_pred_dt)\n",
        "\n",
        "print(\"Mean Squared Error: \", dt_mse)\n",
        "print(\"R-squared: \", dt_r2)"
      ],
      "metadata": {
        "colab": {
          "base_uri": "https://localhost:8080/"
        },
        "id": "Sd4nSO7wiJB2",
        "outputId": "fcca4eca-6d84-4cb2-d30c-71f9685f8936"
      },
      "execution_count": null,
      "outputs": [
        {
          "output_type": "stream",
          "name": "stdout",
          "text": [
            "Mean Squared Error:  0.37613989417989424\n",
            "R-squared:  0.7096518784326923\n"
          ]
        }
      ]
    },
    {
      "cell_type": "code",
      "source": [
        "import xgboost as xgb\n",
        "\n",
        "# Convert data to DMatrix format\n",
        "dtrain = xgb.DMatrix(X_train, label=y_train)\n",
        "dtest = xgb.DMatrix(X_test, label=y_test)\n",
        "\n",
        "# Set parameters for XGBoost\n",
        "params = {\n",
        "    'max_depth': 3,\n",
        "    'eta': 0.1,\n",
        "    'objective': 'reg:squarederror',\n",
        "    'eval_metric': 'rmse'\n",
        "}\n",
        "\n",
        "# Train the XGBoost model\n",
        "num_rounds = 100\n",
        "xgb_model = xgb.train(params, dtrain, num_rounds)\n",
        "\n",
        "y_pred_xgb = xgb_model.predict(dtest)\n",
        "\n",
        "# Results\n",
        "xgb_mse = mean_squared_error(y_test, y_pred_xgb)\n",
        "xgb_r2 = r2_score(y_test, y_pred_xgb)\n",
        "\n",
        "print(\"XGBoost Mean Squared Error:\", xgb_mse)\n",
        "print(\"XGBoost R-squared:\", xgb_r2)"
      ],
      "metadata": {
        "colab": {
          "base_uri": "https://localhost:8080/"
        },
        "id": "lTFYjf1nk9jX",
        "outputId": "5d09cf1c-0784-4a65-dec9-2366197d999a"
      },
      "execution_count": null,
      "outputs": [
        {
          "output_type": "stream",
          "name": "stdout",
          "text": [
            "XGBoost Mean Squared Error: 0.805293933288583\n",
            "XGBoost R-squared: 0.37838132977178096\n"
          ]
        }
      ]
    },
    {
      "cell_type": "markdown",
      "source": [
        "***All results***"
      ],
      "metadata": {
        "id": "wtVzoR9yEA-q"
      }
    },
    {
      "cell_type": "code",
      "source": [
        "from tabulate import tabulate\n",
        "\n",
        "results = [\n",
        "    [\"Linear Regression\", lr_mse, lr_r2],\n",
        "    [\"SVR\", svr_mse, svr_r2],\n",
        "    [\"Decision Tree Regressor\", dt_mse, dt_r2],\n",
        "    [\"Random Forest\", rf_mse, rf_r2],\n",
        "    [\"XGBoosted Tree\", xgb_mse, xgb_r2]\n",
        "]\n",
        "\n",
        "print(tabulate(results, headers=[\"Model\", \"Mean Squared Error (MSE)\", \"R-squared (R2)\"]))"
      ],
      "metadata": {
        "colab": {
          "base_uri": "https://localhost:8080/"
        },
        "id": "en3j_yCbD19Q",
        "outputId": "f05adade-0360-4647-ac42-3522e9f44c49"
      },
      "execution_count": null,
      "outputs": [
        {
          "output_type": "stream",
          "name": "stdout",
          "text": [
            "Model                      Mean Squared Error (MSE)    R-squared (R2)\n",
            "-----------------------  --------------------------  ----------------\n",
            "Linear Regression                          1.19173          0.0800862\n",
            "SVR                                        1.52313         -0.175726\n",
            "Decision Tree Regressor                    0.37614          0.709652\n",
            "Random Forest                              0.293959         0.773089\n",
            "XGBoosted Tree                             0.805294         0.378381\n"
          ]
        }
      ]
    },
    {
      "cell_type": "markdown",
      "source": [
        "***Discussion***\n",
        "\n",
        "**Selected Feature Definitions**\n",
        "*   *st_logg*: Logarithmic acceleration of gravity at a star's surface.\n",
        "*   *st_lum*: Luminosity of a star, which is the amount of energy emitted by a star per unit of time.\n",
        "*   *st_mass*: Mass of a star, which is the amount of matter inside a star. Measured in Solar Masses.\n",
        "*   *st_age*: Age of the star.\n",
        "*   *st_rad*: Radius of a star, the distance from its center to its surface (note: this dataset did not specifically define \"surface\" as corona or chromosphere; either can be used in stellar astronomy)\n",
        "*   *st_teff*: Stellar effective temperature (K) as modeled by a black body emitting the same total electromagnetic radiation.\n",
        "\n",
        "*source: https://exoplanetarchive.ipac.caltech.edu/cgi-bin/TblView/nph-tblView?app=ExoTbls&config=PS*\n",
        "\n",
        "---\n",
        "**Dataset**\n",
        "\n",
        "The dataset itself comes from Nasa's Planetary Systems data, which offers a wide variety of measured exoplanets from a variety of missions performed over the last several decades.\n",
        "\n",
        "It should be noted that evolving technology and the large variety of measurements, techniques, and overall methodology creates outliers, unconfirmed results, and many datapoints marked within the dataset as \"controversial,\" meaning it is still under investigation.\n",
        "\n",
        "This means that the models discussed below performed differently based on their sensitivities to these inconsistencies.\n",
        "\n",
        "---\n",
        "\n",
        "**Model Performance**\n",
        "\n",
        "*Decision Tree Regressor*\n",
        "Decision trees are prone to overfitting, which might have occurred due to the noise within the data. Like many of the models discussed here, it also might be unable to capture complex relationships between features and can be sensitive to the variations in the data.\n",
        "\n",
        "*SVR*\n",
        "\n",
        "Due to the complexity of the data, SVR might struggle to capture the relationships between the different features and the target variable (sy_pnum, which is the number of exoplanets detected in a stellar system). Some of these relationships may be non-linear or be too complex for SVR to perform well.\n",
        "\n",
        "This model might also suffer from poor hyperparameter tuning or be confused by outliers. Also, because of the large variance of the data, it might require further scaling in order for this model to improve.\n",
        "\n",
        "*Linear Regression*\n",
        "\n",
        "Similarly to SVR, Linear Regression assumes a linear relationship, which might not exist in this dataset. It also might suffer from the complexities of higher dimensional data and be unable to capture the interaction between our chosen features. Due to this, Linear Regression may be prone to underfitting this particular dataset.\n",
        "\n",
        "Linear Regression's other potential weakness in this variant dataset is its sensitivity to noise: stellar data can be hugely variable and prone to outliers and inaccuracies, which will have a greater impact on this particular model. Cleaning up some of this noise might produce a better model.\n",
        "\n",
        "*XR Boosted Tree*\n",
        "\n",
        "This model did not perform as well as some of the other trees. It was perhaps more sensitive to outliers, or else the preprocessed data did not sufficeintly compensate for imbalanced data. As discussed above, there is a wide amount of variety in the available data, which the model might have been particularly sensitive to.\n",
        "\n",
        "*Decision Tree Regressor*\n",
        "\n",
        "Overall, this model performed moderately well on the dataset, given its Mean Squared Error and R-squared results. It seems able to better handle the complex interactions between the features. In the future, some fine tuning of the hyperparameters and cleaning some of the dataset would probably benefit this model.\n",
        "\n",
        "*Random Forest*\n",
        "\n",
        "With a Mean Squared Error of only 0.293, this model performed better than all of the other models tested here. Similarly, its R-squared value was about 0.7, meaning it was able to capture a much larger amount of variance in our target variable, sy_pnum (number of planets in a system). The model was better able to ignore the outliers and other noise that \"distracted\" the other models.\n",
        "\n",
        "---\n",
        "**Conclusion**\n",
        "\n",
        "Of the four models tested, the linear models performed the least poorly, which is surprising: it was hypothesized that there was a linear relationship between the features of a star and the number of exoplanets. However, if this relationship does exist, the models were not able to identify it.\n",
        "\n",
        "In the process of writing the models, different features were tested, at one point only using three of the most prominent features (mass, size, and luminosity). The result was actually worse than the larger number of features used in the final models. This also suggests that the relationship between a star's features and the number of exoplanets is much more complicated than the linear models were able to train for.\n",
        "\n",
        "There is some possiblity that the data is simply too variant. As mentioned, the dataset can be unpredictable, since it spans several decades of measurements, using various instruments, and measuring a variety of stars using different methodologies. It is possible that with better filtering of the data, some of these models would perform better.\n",
        "\n",
        "With all of this in mind, the decision tree models outperformed the linear models, with Random Forest providing the most accurate results, based on MSE and R-squared values."
      ],
      "metadata": {
        "id": "dk584FVkFXeY"
      }
    },
    {
      "cell_type": "code",
      "source": [],
      "metadata": {
        "id": "KVIFCxvAEdcD"
      },
      "execution_count": null,
      "outputs": []
    }
  ]
}